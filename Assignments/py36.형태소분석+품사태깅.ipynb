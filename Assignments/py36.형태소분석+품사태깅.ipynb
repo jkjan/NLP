{
 "cells": [
  {
   "cell_type": "code",
   "execution_count": 6,
   "metadata": {},
   "outputs": [
    {
     "name": "stdout",
     "output_type": "stream",
     "text": [
      "konlpy is already installed.\n"
     ]
    }
   ],
   "source": [
    "import sys\n",
    "\n",
    "if 'konlpy' not in sys.modules:\n",
    "    print(\"installing konlpy,\")\n",
    "    !pip install konlpy\n",
    "else:\n",
    "    print(\"konlpy is already installed.\")\n",
    "    \n",
    "from konlpy.tag import Okt\n",
    "from konlpy.tag import Kkma\n",
    "from konlpy.tag import Hannanum\n",
    "from konlpy.tag import Komoran\n",
    "from konlpy.tag import Twitter\n",
    "\n",
    "kkma = Kkma()\n",
    "okt = Okt()\n",
    "komoran = Komoran()\n",
    "hannanum = Hannanum()"
   ]
  },
  {
   "cell_type": "code",
   "execution_count": 7,
   "metadata": {},
   "outputs": [
    {
     "name": "stdout",
     "output_type": "stream",
     "text": [
      "kkma 문장 분리: ['네 안녕하세요', '반갑습니다.']\n",
      "kkma 문장 분리: ['네 안녕하세요', '반갑습니다.']\n"
     ]
    }
   ],
   "source": [
    "print(\"kkma 문장 분리:\", kkma.sentences(\"네 안녕하세요 반갑습니다.\"))\n",
    "print(\"kkma 문장 분리:\", kkma.sentences(\"네안녕하세요반갑습니다.\"))"
   ]
  },
  {
   "cell_type": "code",
   "execution_count": 8,
   "metadata": {},
   "outputs": [
    {
     "name": "stdout",
     "output_type": "stream",
     "text": [
      "okt 형태소 분석: ['세종대왕', '님', '은', '글', '을', '만드셨습니다', '.']\n",
      "kkma 형태소 분석: ['세종', '대왕', '님', '은', '글', '을', '만들', '시', '었', '습니다', '.']\n",
      "hannanum 형태소 분석: ['세종대왕님', '은', '글', '을', '만들', '셨습니다', '.']\n",
      "komoran 형태소 분석: ['세종대왕', '님', '은', '글', '을', '만들', '시', '었', '습니다', '.']\n"
     ]
    }
   ],
   "source": [
    "in_str = u\"세종대왕님은 글을 만드셨습니다.\"\n",
    "\n",
    "print(\"okt 형태소 분석:\", okt.morphs(in_str))\n",
    "print(\"kkma 형태소 분석:\", kkma.morphs(in_str))\n",
    "print(\"hannanum 형태소 분석:\", hannanum.morphs(in_str))\n",
    "print(\"komoran 형태소 분석:\", komoran.morphs(in_str))"
   ]
  },
  {
   "cell_type": "code",
   "execution_count": 9,
   "metadata": {},
   "outputs": [
    {
     "name": "stdout",
     "output_type": "stream",
     "text": [
      "okt 품사태깅: [('세종대왕', 'Noun'), ('님', 'Suffix'), ('은', 'Josa'), ('글', 'Noun'), ('을', 'Josa'), ('만드셨습니다', 'Verb'), ('.', 'Punctuation')]\n",
      "kkma 품사태깅: [('세종', 'NNG'), ('대왕', 'NNG'), ('님', 'XSN'), ('은', 'JX'), ('글', 'NNG'), ('을', 'JKO'), ('만들', 'VV'), ('시', 'EPH'), ('었', 'EPT'), ('습니다', 'EFN'), ('.', 'SF')]\n",
      "hannanum 품사태깅: [('세종대왕님', 'N'), ('은', 'J'), ('글', 'N'), ('을', 'J'), ('만들', 'P'), ('셨습니다', 'E'), ('.', 'S')]\n",
      "komoran 품사태깅: [('세종대왕', 'NNP'), ('님', 'XSN'), ('은', 'JX'), ('글', 'NNG'), ('을', 'JKO'), ('만들', 'VV'), ('시', 'EP'), ('었', 'EP'), ('습니다', 'EF'), ('.', 'SF')]\n"
     ]
    }
   ],
   "source": [
    "print(\"okt 품사태깅:\", okt.pos(in_str))\n",
    "print(\"kkma 품사태깅:\", kkma.pos(in_str))\n",
    "print(\"hannanum 품사태깅:\", hannanum.pos(in_str))\n",
    "print(\"komoran 품사태깅:\", komoran.pos(in_str))"
   ]
  },
  {
   "cell_type": "code",
   "execution_count": null,
   "metadata": {},
   "outputs": [],
   "source": []
  }
 ],
 "metadata": {
  "kernelspec": {
   "display_name": "conda_pytorch_p36",
   "language": "python",
   "name": "conda_pytorch_p36"
  },
  "language_info": {
   "codemirror_mode": {
    "name": "ipython",
    "version": 3
   },
   "file_extension": ".py",
   "mimetype": "text/x-python",
   "name": "python",
   "nbconvert_exporter": "python",
   "pygments_lexer": "ipython3",
   "version": "3.6.10"
  }
 },
 "nbformat": 4,
 "nbformat_minor": 4
}
